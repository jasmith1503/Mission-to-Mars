{
 "cells": [
  {
   "cell_type": "code",
   "execution_count": 20,
   "id": "b18c6e15",
   "metadata": {},
   "outputs": [],
   "source": [
    "from splinter import Browser\n",
    "from bs4 import BeautifulSoup as soup\n",
    "from webdriver_manager.chrome import ChromeDriverManager\n",
    "import pandas as pd\n",
    "import matplotlib.pyplot as plt"
   ]
  },
  {
   "cell_type": "code",
   "execution_count": 3,
   "id": "2d13b62d",
   "metadata": {},
   "outputs": [
    {
     "name": "stderr",
     "output_type": "stream",
     "text": [
      "[WDM] - Downloading: 100%|████████████████████████████████████████████████████████| 6.58M/6.58M [00:00<00:00, 40.6MB/s]\n"
     ]
    }
   ],
   "source": [
    "# Set up Splinter\n",
    "executable_path = {'executable_path': ChromeDriverManager().install()}\n",
    "browser = Browser('chrome', **executable_path, headless=False)"
   ]
  },
  {
   "cell_type": "code",
   "execution_count": 4,
   "id": "03e41b82",
   "metadata": {},
   "outputs": [],
   "source": [
    "url = 'https://data-class-mars-challenge.s3.amazonaws.com/Mars/index.html'\n",
    "mars_temps = pd.read_html(url)"
   ]
  },
  {
   "cell_type": "code",
   "execution_count": 5,
   "id": "427bc76c",
   "metadata": {},
   "outputs": [
    {
     "data": {
      "text/plain": [
       "[        id terrestrial_date   sol   ls  month  min_temp  pressure\n",
       " 0        2       2012-08-16    10  155      6     -75.0     739.0\n",
       " 1       13       2012-08-17    11  156      6     -76.0     740.0\n",
       " 2       24       2012-08-18    12  156      6     -76.0     741.0\n",
       " 3       35       2012-08-19    13  157      6     -74.0     732.0\n",
       " 4       46       2012-08-20    14  157      6     -74.0     740.0\n",
       " ...    ...              ...   ...  ...    ...       ...       ...\n",
       " 1862  1889       2018-02-23  1973  133      5     -78.0     730.0\n",
       " 1863  1892       2018-02-24  1974  134      5     -77.0     729.0\n",
       " 1864  1894       2018-02-25  1975  134      5     -76.0     729.0\n",
       " 1865  1893       2018-02-26  1976  135      5     -77.0     728.0\n",
       " 1866  1895       2018-02-27  1977  135      5     -77.0     727.0\n",
       " \n",
       " [1867 rows x 7 columns]]"
      ]
     },
     "execution_count": 5,
     "metadata": {},
     "output_type": "execute_result"
    }
   ],
   "source": [
    "# Display the data that is currently a list. NOTE: temperatures listed in Celsius \n",
    "mars_temps"
   ]
  },
  {
   "cell_type": "code",
   "execution_count": 6,
   "id": "5b35fef5",
   "metadata": {},
   "outputs": [],
   "source": [
    "# Convert the HTML list into a Dataframe\n",
    "mars_temps_df = mars_temps[0]"
   ]
  },
  {
   "cell_type": "code",
   "execution_count": 7,
   "id": "e91925d9",
   "metadata": {},
   "outputs": [
    {
     "data": {
      "text/html": [
       "<div>\n",
       "<style scoped>\n",
       "    .dataframe tbody tr th:only-of-type {\n",
       "        vertical-align: middle;\n",
       "    }\n",
       "\n",
       "    .dataframe tbody tr th {\n",
       "        vertical-align: top;\n",
       "    }\n",
       "\n",
       "    .dataframe thead th {\n",
       "        text-align: right;\n",
       "    }\n",
       "</style>\n",
       "<table border=\"1\" class=\"dataframe\">\n",
       "  <thead>\n",
       "    <tr style=\"text-align: right;\">\n",
       "      <th></th>\n",
       "      <th>id</th>\n",
       "      <th>terrestrial_date</th>\n",
       "      <th>sol</th>\n",
       "      <th>ls</th>\n",
       "      <th>month</th>\n",
       "      <th>min_temp</th>\n",
       "      <th>pressure</th>\n",
       "    </tr>\n",
       "  </thead>\n",
       "  <tbody>\n",
       "    <tr>\n",
       "      <th>545</th>\n",
       "      <td>569</td>\n",
       "      <td>2014-05-10</td>\n",
       "      <td>625</td>\n",
       "      <td>128</td>\n",
       "      <td>5</td>\n",
       "      <td>-81.0</td>\n",
       "      <td>761.0</td>\n",
       "    </tr>\n",
       "    <tr>\n",
       "      <th>222</th>\n",
       "      <td>162</td>\n",
       "      <td>2013-05-09</td>\n",
       "      <td>269</td>\n",
       "      <td>315</td>\n",
       "      <td>11</td>\n",
       "      <td>-72.0</td>\n",
       "      <td>866.0</td>\n",
       "    </tr>\n",
       "    <tr>\n",
       "      <th>0</th>\n",
       "      <td>2</td>\n",
       "      <td>2012-08-16</td>\n",
       "      <td>10</td>\n",
       "      <td>155</td>\n",
       "      <td>6</td>\n",
       "      <td>-75.0</td>\n",
       "      <td>739.0</td>\n",
       "    </tr>\n",
       "    <tr>\n",
       "      <th>1754</th>\n",
       "      <td>1783</td>\n",
       "      <td>2017-11-04</td>\n",
       "      <td>1865</td>\n",
       "      <td>82</td>\n",
       "      <td>3</td>\n",
       "      <td>-80.0</td>\n",
       "      <td>852.0</td>\n",
       "    </tr>\n",
       "    <tr>\n",
       "      <th>503</th>\n",
       "      <td>526</td>\n",
       "      <td>2014-03-28</td>\n",
       "      <td>583</td>\n",
       "      <td>108</td>\n",
       "      <td>4</td>\n",
       "      <td>-82.0</td>\n",
       "      <td>806.0</td>\n",
       "    </tr>\n",
       "    <tr>\n",
       "      <th>1311</th>\n",
       "      <td>1337</td>\n",
       "      <td>2016-08-01</td>\n",
       "      <td>1417</td>\n",
       "      <td>195</td>\n",
       "      <td>7</td>\n",
       "      <td>-70.0</td>\n",
       "      <td>791.0</td>\n",
       "    </tr>\n",
       "    <tr>\n",
       "      <th>1468</th>\n",
       "      <td>1495</td>\n",
       "      <td>2017-01-09</td>\n",
       "      <td>1574</td>\n",
       "      <td>295</td>\n",
       "      <td>10</td>\n",
       "      <td>-72.0</td>\n",
       "      <td>868.0</td>\n",
       "    </tr>\n",
       "    <tr>\n",
       "      <th>1617</th>\n",
       "      <td>1647</td>\n",
       "      <td>2017-06-15</td>\n",
       "      <td>1727</td>\n",
       "      <td>19</td>\n",
       "      <td>1</td>\n",
       "      <td>-75.0</td>\n",
       "      <td>855.0</td>\n",
       "    </tr>\n",
       "    <tr>\n",
       "      <th>1197</th>\n",
       "      <td>1223</td>\n",
       "      <td>2016-03-27</td>\n",
       "      <td>1294</td>\n",
       "      <td>128</td>\n",
       "      <td>5</td>\n",
       "      <td>-79.0</td>\n",
       "      <td>758.0</td>\n",
       "    </tr>\n",
       "    <tr>\n",
       "      <th>29</th>\n",
       "      <td>185</td>\n",
       "      <td>2012-09-19</td>\n",
       "      <td>43</td>\n",
       "      <td>173</td>\n",
       "      <td>6</td>\n",
       "      <td>-74.0</td>\n",
       "      <td>756.0</td>\n",
       "    </tr>\n",
       "  </tbody>\n",
       "</table>\n",
       "</div>"
      ],
      "text/plain": [
       "        id terrestrial_date   sol   ls  month  min_temp  pressure\n",
       "545    569       2014-05-10   625  128      5     -81.0     761.0\n",
       "222    162       2013-05-09   269  315     11     -72.0     866.0\n",
       "0        2       2012-08-16    10  155      6     -75.0     739.0\n",
       "1754  1783       2017-11-04  1865   82      3     -80.0     852.0\n",
       "503    526       2014-03-28   583  108      4     -82.0     806.0\n",
       "1311  1337       2016-08-01  1417  195      7     -70.0     791.0\n",
       "1468  1495       2017-01-09  1574  295     10     -72.0     868.0\n",
       "1617  1647       2017-06-15  1727   19      1     -75.0     855.0\n",
       "1197  1223       2016-03-27  1294  128      5     -79.0     758.0\n",
       "29     185       2012-09-19    43  173      6     -74.0     756.0"
      ]
     },
     "execution_count": 7,
     "metadata": {},
     "output_type": "execute_result"
    }
   ],
   "source": [
    "# Validate that the list has been converted to a dataframe\n",
    "mars_temps_df.sample(10)"
   ]
  },
  {
   "cell_type": "code",
   "execution_count": 8,
   "id": "2fd093aa",
   "metadata": {},
   "outputs": [
    {
     "data": {
      "text/plain": [
       "id                    int64\n",
       "terrestrial_date     object\n",
       "sol                   int64\n",
       "ls                    int64\n",
       "month                 int64\n",
       "min_temp            float64\n",
       "pressure            float64\n",
       "dtype: object"
      ]
     },
     "execution_count": 8,
     "metadata": {},
     "output_type": "execute_result"
    }
   ],
   "source": [
    "# Display the current datatypes for each column\n",
    "mars_temps_df.dtypes"
   ]
  },
  {
   "cell_type": "code",
   "execution_count": 9,
   "id": "aa368269",
   "metadata": {},
   "outputs": [],
   "source": [
    "# Convert data type for column \"Terrestrial_date\" to datetime\n",
    "mars_temps_df['terrestrial_date'] = pd.to_datetime(mars_temps_df['terrestrial_date'])"
   ]
  },
  {
   "cell_type": "code",
   "execution_count": 10,
   "id": "ddfaadec",
   "metadata": {},
   "outputs": [
    {
     "data": {
      "text/plain": [
       "id                           int64\n",
       "terrestrial_date    datetime64[ns]\n",
       "sol                          int64\n",
       "ls                           int64\n",
       "month                        int64\n",
       "min_temp                   float64\n",
       "pressure                   float64\n",
       "dtype: object"
      ]
     },
     "execution_count": 10,
     "metadata": {},
     "output_type": "execute_result"
    }
   ],
   "source": [
    "# Validate the datatype changed for the specified column\n",
    "mars_temps_df.dtypes"
   ]
  },
  {
   "cell_type": "code",
   "execution_count": 11,
   "id": "cda849ac",
   "metadata": {},
   "outputs": [],
   "source": [
    "# Close the browser created in this script, the data is now stored as a DataFrame\n",
    "browser.quit()"
   ]
  },
  {
   "cell_type": "code",
   "execution_count": 12,
   "id": "21287866",
   "metadata": {},
   "outputs": [
    {
     "name": "stdout",
     "output_type": "stream",
     "text": [
      "There are 12 months in a Martian solar year\n"
     ]
    }
   ],
   "source": [
    "# Deliverable 2: Scrape and Analyze Mars Weather Data \n",
    "# Question 6: How many months exist on Mars?\n",
    "num_mars_mths = mars_temps_df['month'].nunique()\n",
    "print(f'There are', num_mars_mths, 'month''s in a Martian solar year')"
   ]
  },
  {
   "cell_type": "code",
   "execution_count": 13,
   "id": "769a0efc",
   "metadata": {},
   "outputs": [
    {
     "name": "stdout",
     "output_type": "stream",
     "text": [
      "There are 1867 unique days in this dataset\n"
     ]
    }
   ],
   "source": [
    "# Deliverable 2: Scrape and Analyze Mars Weather Data \n",
    "# Question 7: How many Martian (and not Earth) days worth of data exist in the scraped dataset\n",
    "num_mars_days = mars_temps_df['sol'].nunique()\n",
    "print(f'There are', num_mars_days,'unique days in this dataset')"
   ]
  },
  {
   "cell_type": "code",
   "execution_count": 108,
   "id": "ee9301dd",
   "metadata": {},
   "outputs": [
    {
     "data": {
      "text/plain": [
       "<BarContainer object of 12 artists>"
      ]
     },
     "execution_count": 108,
     "metadata": {},
     "output_type": "execute_result"
    },
    {
     "data": {
      "image/png": "[encoded data removed]",
      "text/plain": [
       "<Figure size 432x288 with 1 Axes>"
      ]
     },
     "metadata": {
      "needs_background": "light"
     },
     "output_type": "display_data"
    }
   ],
   "source": [
    "# Deliverable 2: Scrape and Analyze Mars Weather Data \n",
    "# Question 8: What are the coldest and the warmest months on Mars (at the location of Curiosity)?\n",
    "# Plot the results as a bar chart.\n",
    "# What is the coldest month\n",
    "\n",
    "# What is the warmest month\n",
    "# mars_month_coldest = mars_month_temps['min_temp'].groupby(mars_month_temps['month']).mean()\n",
    "mars_month_coldest = mars_temps_df.groupby('month').mean('min_temp')\n",
    "\n",
    "# Create Range for months using Index, this converts the \"group by\" into a series which can be plotted\n",
    "x_axis_months = pd.Series(range(1,mars_month_coldest['id'].count() + 1))\n",
    "\n",
    "# Create labels for the x and y axis\n",
    "plt.xlabel(\"Months\")\n",
    "plt.ylabel(\"Temps\")\n",
    "# Create Title\n",
    "plt.title(\"Avg temps by Months\")\n",
    "# Display the completed Bar chart\n",
    "plt.bar(x_axis_months, mars_month_coldest['min_temp'])"
   ]
  },
  {
   "cell_type": "code",
   "execution_count": 63,
   "id": "fff6e40c",
   "metadata": {},
   "outputs": [
    {
     "data": {
      "text/plain": [
       "-68.38297872340425"
      ]
     },
     "execution_count": 63,
     "metadata": {},
     "output_type": "execute_result"
    }
   ],
   "source": [
    "mars_month_hotest = mars_month_temps['min_temp'].max()\n",
    "mars_month_hotest"
   ]
  },
  {
   "cell_type": "code",
   "execution_count": 107,
   "id": "422f7000",
   "metadata": {},
   "outputs": [
    {
     "data": {
      "text/plain": [
       "<BarContainer object of 12 artists>"
      ]
     },
     "execution_count": 107,
     "metadata": {},
     "output_type": "execute_result"
    },
    {
     "data": {
      "image/png": "[encoded data removed]",
      "text/plain": [
       "<Figure size 432x288 with 1 Axes>"
      ]
     },
     "metadata": {
      "needs_background": "light"
     },
     "output_type": "display_data"
    }
   ],
   "source": [
    "# Deliverable 2: Scrape and Analyze Mars Weather Data \n",
    "# Question 9: Which months have the lowest and the highest atmospheric pressure on Mars?\n",
    "# Plot the results as a bar chart.\n",
    "\n",
    "# Returns a DF\n",
    "mars_avg_pressure = mars_temps_df.groupby('month').mean('pressure')\n",
    "\n",
    "# Create Range for months using Index, this converts the \"group by\" into a series which can be plotted\n",
    "x_axis_months = pd.Series(range(1,mars_avg_pressure['id'].count() + 1))\n",
    "\n",
    "# Create labels for the x and y axis\n",
    "plt.xlabel(\"Months\")\n",
    "plt.ylabel(\"Pressure\")\n",
    "\n",
    "# Create Title for chart\n",
    "plt.title(\"Avg pressure by Months\")\n",
    "\n",
    "# Display completed bar chart\n",
    "plt.bar(x_axis_months, mars_avg_pressure['pressure'])"
   ]
  },
  {
   "cell_type": "code",
   "execution_count": 109,
   "id": "a05588c1",
   "metadata": {},
   "outputs": [
    {
     "ename": "SyntaxError",
     "evalue": "invalid syntax (2295476759.py, line 10)",
     "output_type": "error",
     "traceback": [
      "\u001b[1;36m  File \u001b[1;32m\"C:\\Users\\Jason\\AppData\\Local\\Temp\\ipykernel_23104\\2295476759.py\"\u001b[1;36m, line \u001b[1;32m10\u001b[0m\n\u001b[1;33m    find_year_counts = mars_temps_df['terrestrial_date']).dt.to_period('Y') == get_days_year.count()\u001b[0m\n\u001b[1;37m                                                        ^\u001b[0m\n\u001b[1;31mSyntaxError\u001b[0m\u001b[1;31m:\u001b[0m invalid syntax\n"
     ]
    }
   ],
   "source": [
    "# Deliverable 2: Scrape and Analyze Mars Weather Data \n",
    "# Question 10: About how many terrestrial (Earth) days exist in a Martian year? That is, in the time that Mars circles \n",
    "# the Sun once, how many days elapse on Earth?\n",
    "# mars_temps_df.sample(10)\n",
    "# mars_temps_df['terrestrial_date']\n",
    "#getYears = pd.to_datetime(mars_temps_df['terrestrial_date']).dt.to_period('Y').nunique()\n",
    "#getYears\n",
    "get_days_year = pd.to_datetime(mars_temps_df['terrestrial_date']).dt.to_period('Y').nunique()\n",
    "get_days_year\n",
    "find_year_counts = mars_temps_df['terrestrial_date']).dt.to_period('Y') == get_days_year.count()\n",
    "\n",
    "# Visually estimate the result by plotting the daily minimum temperature.\n",
    "\n",
    "# df['month_year'] = pd.to_datetime(df['birth_date']).dt.to_period('M')\n",
    "# df.head()"
   ]
  },
  {
   "cell_type": "code",
   "execution_count": null,
   "id": "2b4f04c4",
   "metadata": {},
   "outputs": [],
   "source": []
  }
 ],
 "metadata": {
  "kernelspec": {
   "display_name": "PythonData",
   "language": "python",
   "name": "pythondata"
  },
  "language_info": {
   "codemirror_mode": {
    "name": "ipython",
    "version": 3
   },
   "file_extension": ".py",
   "mimetype": "text/x-python",
   "name": "python",
   "nbconvert_exporter": "python",
   "pygments_lexer": "ipython3",
   "version": "3.7.13"
  }
 },
 "nbformat": 4,
 "nbformat_minor": 5
}
