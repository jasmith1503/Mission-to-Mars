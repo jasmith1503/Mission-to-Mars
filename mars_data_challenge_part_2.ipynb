{
 "cells": [
  {
   "cell_type": "code",
   "execution_count": 1,
   "id": "b18c6e15",
   "metadata": {},
   "outputs": [],
   "source": [
    "from splinter import Browser\n",
    "from bs4 import BeautifulSoup as soup\n",
    "from webdriver_manager.chrome import ChromeDriverManager\n",
    "import pandas as pd\n",
    "import datetime as dt\n",
    "import matplotlib.pyplot as plt"
   ]
  },
  {
   "cell_type": "code",
   "execution_count": 2,
   "id": "2d13b62d",
   "metadata": {},
   "outputs": [],
   "source": [
    "# Set up Splinter\n",
    "executable_path = {'executable_path': ChromeDriverManager().install()}\n",
    "browser = Browser('chrome', **executable_path, headless=False)"
   ]
  },
  {
   "cell_type": "code",
   "execution_count": 3,
   "id": "03e41b82",
   "metadata": {},
   "outputs": [],
   "source": [
    "url = 'https://data-class-mars-challenge.s3.amazonaws.com/Mars/index.html'\n",
    "mars_temps = pd.read_html(url)"
   ]
  },
  {
   "cell_type": "code",
   "execution_count": 4,
   "id": "427bc76c",
   "metadata": {},
   "outputs": [
    {
     "data": {
      "text/plain": [
       "[        id terrestrial_date   sol   ls  month  min_temp  pressure\n",
       " 0        2       2012-08-16    10  155      6     -75.0     739.0\n",
       " 1       13       2012-08-17    11  156      6     -76.0     740.0\n",
       " 2       24       2012-08-18    12  156      6     -76.0     741.0\n",
       " 3       35       2012-08-19    13  157      6     -74.0     732.0\n",
       " 4       46       2012-08-20    14  157      6     -74.0     740.0\n",
       " ...    ...              ...   ...  ...    ...       ...       ...\n",
       " 1862  1889       2018-02-23  1973  133      5     -78.0     730.0\n",
       " 1863  1892       2018-02-24  1974  134      5     -77.0     729.0\n",
       " 1864  1894       2018-02-25  1975  134      5     -76.0     729.0\n",
       " 1865  1893       2018-02-26  1976  135      5     -77.0     728.0\n",
       " 1866  1895       2018-02-27  1977  135      5     -77.0     727.0\n",
       " \n",
       " [1867 rows x 7 columns]]"
      ]
     },
     "execution_count": 4,
     "metadata": {},
     "output_type": "execute_result"
    }
   ],
   "source": [
    "# Display the data that is currently a list. NOTE: temperatures listed in Celsius \n",
    "mars_temps"
   ]
  },
  {
   "cell_type": "code",
   "execution_count": 5,
   "id": "5b35fef5",
   "metadata": {},
   "outputs": [],
   "source": [
    "# Convert the HTML list into a Dataframe\n",
    "mars_temps_df = mars_temps[0]"
   ]
  },
  {
   "cell_type": "code",
   "execution_count": 6,
   "id": "e91925d9",
   "metadata": {},
   "outputs": [
    {
     "data": {
      "text/html": [
       "<div>\n",
       "<style scoped>\n",
       "    .dataframe tbody tr th:only-of-type {\n",
       "        vertical-align: middle;\n",
       "    }\n",
       "\n",
       "    .dataframe tbody tr th {\n",
       "        vertical-align: top;\n",
       "    }\n",
       "\n",
       "    .dataframe thead th {\n",
       "        text-align: right;\n",
       "    }\n",
       "</style>\n",
       "<table border=\"1\" class=\"dataframe\">\n",
       "  <thead>\n",
       "    <tr style=\"text-align: right;\">\n",
       "      <th></th>\n",
       "      <th>id</th>\n",
       "      <th>terrestrial_date</th>\n",
       "      <th>sol</th>\n",
       "      <th>ls</th>\n",
       "      <th>month</th>\n",
       "      <th>min_temp</th>\n",
       "      <th>pressure</th>\n",
       "    </tr>\n",
       "  </thead>\n",
       "  <tbody>\n",
       "    <tr>\n",
       "      <th>387</th>\n",
       "      <td>405</td>\n",
       "      <td>2013-11-03</td>\n",
       "      <td>442</td>\n",
       "      <td>44</td>\n",
       "      <td>2</td>\n",
       "      <td>-80.0</td>\n",
       "      <td>900.0</td>\n",
       "    </tr>\n",
       "    <tr>\n",
       "      <th>1851</th>\n",
       "      <td>1880</td>\n",
       "      <td>2018-02-12</td>\n",
       "      <td>1962</td>\n",
       "      <td>128</td>\n",
       "      <td>5</td>\n",
       "      <td>-78.0</td>\n",
       "      <td>738.0</td>\n",
       "    </tr>\n",
       "    <tr>\n",
       "      <th>1167</th>\n",
       "      <td>1193</td>\n",
       "      <td>2016-02-23</td>\n",
       "      <td>1262</td>\n",
       "      <td>112</td>\n",
       "      <td>4</td>\n",
       "      <td>-81.0</td>\n",
       "      <td>790.0</td>\n",
       "    </tr>\n",
       "    <tr>\n",
       "      <th>1033</th>\n",
       "      <td>1059</td>\n",
       "      <td>2015-10-09</td>\n",
       "      <td>1128</td>\n",
       "      <td>52</td>\n",
       "      <td>2</td>\n",
       "      <td>-79.0</td>\n",
       "      <td>902.0</td>\n",
       "    </tr>\n",
       "    <tr>\n",
       "      <th>329</th>\n",
       "      <td>346</td>\n",
       "      <td>2013-09-04</td>\n",
       "      <td>384</td>\n",
       "      <td>16</td>\n",
       "      <td>1</td>\n",
       "      <td>-77.0</td>\n",
       "      <td>875.0</td>\n",
       "    </tr>\n",
       "    <tr>\n",
       "      <th>1619</th>\n",
       "      <td>1646</td>\n",
       "      <td>2017-06-17</td>\n",
       "      <td>1729</td>\n",
       "      <td>20</td>\n",
       "      <td>1</td>\n",
       "      <td>-76.0</td>\n",
       "      <td>858.0</td>\n",
       "    </tr>\n",
       "    <tr>\n",
       "      <th>1666</th>\n",
       "      <td>1696</td>\n",
       "      <td>2017-08-04</td>\n",
       "      <td>1776</td>\n",
       "      <td>42</td>\n",
       "      <td>2</td>\n",
       "      <td>-79.0</td>\n",
       "      <td>877.0</td>\n",
       "    </tr>\n",
       "    <tr>\n",
       "      <th>695</th>\n",
       "      <td>717</td>\n",
       "      <td>2014-10-11</td>\n",
       "      <td>775</td>\n",
       "      <td>211</td>\n",
       "      <td>8</td>\n",
       "      <td>-71.0</td>\n",
       "      <td>838.0</td>\n",
       "    </tr>\n",
       "    <tr>\n",
       "      <th>323</th>\n",
       "      <td>339</td>\n",
       "      <td>2013-08-29</td>\n",
       "      <td>378</td>\n",
       "      <td>13</td>\n",
       "      <td>1</td>\n",
       "      <td>-78.0</td>\n",
       "      <td>869.0</td>\n",
       "    </tr>\n",
       "    <tr>\n",
       "      <th>723</th>\n",
       "      <td>744</td>\n",
       "      <td>2014-11-09</td>\n",
       "      <td>803</td>\n",
       "      <td>229</td>\n",
       "      <td>8</td>\n",
       "      <td>-69.0</td>\n",
       "      <td>888.0</td>\n",
       "    </tr>\n",
       "  </tbody>\n",
       "</table>\n",
       "</div>"
      ],
      "text/plain": [
       "        id terrestrial_date   sol   ls  month  min_temp  pressure\n",
       "387    405       2013-11-03   442   44      2     -80.0     900.0\n",
       "1851  1880       2018-02-12  1962  128      5     -78.0     738.0\n",
       "1167  1193       2016-02-23  1262  112      4     -81.0     790.0\n",
       "1033  1059       2015-10-09  1128   52      2     -79.0     902.0\n",
       "329    346       2013-09-04   384   16      1     -77.0     875.0\n",
       "1619  1646       2017-06-17  1729   20      1     -76.0     858.0\n",
       "1666  1696       2017-08-04  1776   42      2     -79.0     877.0\n",
       "695    717       2014-10-11   775  211      8     -71.0     838.0\n",
       "323    339       2013-08-29   378   13      1     -78.0     869.0\n",
       "723    744       2014-11-09   803  229      8     -69.0     888.0"
      ]
     },
     "execution_count": 6,
     "metadata": {},
     "output_type": "execute_result"
    }
   ],
   "source": [
    "# Validate that the list has been converted to a dataframe\n",
    "mars_temps_df.sample(10)"
   ]
  },
  {
   "cell_type": "code",
   "execution_count": 7,
   "id": "2fd093aa",
   "metadata": {},
   "outputs": [
    {
     "data": {
      "text/plain": [
       "id                    int64\n",
       "terrestrial_date     object\n",
       "sol                   int64\n",
       "ls                    int64\n",
       "month                 int64\n",
       "min_temp            float64\n",
       "pressure            float64\n",
       "dtype: object"
      ]
     },
     "execution_count": 7,
     "metadata": {},
     "output_type": "execute_result"
    }
   ],
   "source": [
    "# Display the current datatypes for each column\n",
    "mars_temps_df.dtypes"
   ]
  },
  {
   "cell_type": "code",
   "execution_count": 8,
   "id": "aa368269",
   "metadata": {},
   "outputs": [],
   "source": [
    "# Convert data type for column \"Terrestrial_date\" to datetime\n",
    "mars_temps_df['terrestrial_date'] = pd.to_datetime(mars_temps_df['terrestrial_date'])"
   ]
  },
  {
   "cell_type": "code",
   "execution_count": 9,
   "id": "ddfaadec",
   "metadata": {},
   "outputs": [
    {
     "data": {
      "text/plain": [
       "id                           int64\n",
       "terrestrial_date    datetime64[ns]\n",
       "sol                          int64\n",
       "ls                           int64\n",
       "month                        int64\n",
       "min_temp                   float64\n",
       "pressure                   float64\n",
       "dtype: object"
      ]
     },
     "execution_count": 9,
     "metadata": {},
     "output_type": "execute_result"
    }
   ],
   "source": [
    "# Validate the datatype changed for the specified column\n",
    "mars_temps_df.dtypes"
   ]
  },
  {
   "cell_type": "code",
   "execution_count": 10,
   "id": "cda849ac",
   "metadata": {},
   "outputs": [],
   "source": [
    "# Close the browser created in this script, the data is now stored as a DataFrame\n",
    "browser.quit()"
   ]
  },
  {
   "cell_type": "code",
   "execution_count": 14,
   "id": "21287866",
   "metadata": {},
   "outputs": [
    {
     "name": "stdout",
     "output_type": "stream",
     "text": [
      "There are 12 months in a Martian solar year\n"
     ]
    }
   ],
   "source": [
    "# Deliverable 2: Scrape and Analyze Mars Weather Data \n",
    "# Question 5, Part 1 >> How many months exist on Mars?\n",
    "num_mars_mths = mars_temps_df['month'].nunique()\n",
    "print(f'There are', num_mars_mths, 'month''s in a Martian solar year')"
   ]
  },
  {
   "cell_type": "code",
   "execution_count": 15,
   "id": "769a0efc",
   "metadata": {},
   "outputs": [
    {
     "name": "stdout",
     "output_type": "stream",
     "text": [
      "There are 1867 unique days in this dataset\n"
     ]
    }
   ],
   "source": [
    "# Deliverable 2: Scrape and Analyze Mars Weather Data \n",
    "# Question 5, Part 2 >> How many Martian (and not Earth) days worth of data exist in the scraped dataset\n",
    "num_mars_days = mars_temps_df['sol'].nunique()\n",
    "print(f'There are', num_mars_days,'unique days in this dataset')"
   ]
  },
  {
   "cell_type": "code",
   "execution_count": 13,
   "id": "ee9301dd",
   "metadata": {},
   "outputs": [
    {
     "name": "stdout",
     "output_type": "stream",
     "text": [
      "Using the chart provided the coldest month was found in the 3rd month and the warmest found to be 8th month.\n"
     ]
    },
    {
     "data": {
      "image/png": "[encoded data removed]",
      "text/plain": [
       "<Figure size 432x288 with 1 Axes>"
      ]
     },
     "metadata": {
      "needs_background": "light"
     },
     "output_type": "display_data"
    }
   ],
   "source": [
    "# Deliverable 2: Scrape and Analyze Mars Weather Data \n",
    "# Question 5, Part 3 >> What are the coldest and the warmest months on Mars (at the location of Curiosity)?\n",
    "# Plot the results as a bar chart.\n",
    "\n",
    "# mars_month_coldest = mars_month_temps['min_temp'].groupby(mars_month_temps['month']).mean()\n",
    "mars_month_coldest = mars_temps_df.groupby('month').mean('min_temp')\n",
    "\n",
    "# Create Range for months using Index, this converts the \"group by\" into a series which can be plotted\n",
    "x_axis_months = pd.Series(range(1,mars_month_coldest['id'].count() + 1))\n",
    "\n",
    "# Create labels for the x and y axis\n",
    "plt.xlabel(\"Months\")\n",
    "plt.ylabel(\"Temps\")\n",
    "# Create Title\n",
    "plt.title(\"Avg temps by Months\")\n",
    "# Display the completed Bar chart\n",
    "plt.bar(x_axis_months, mars_month_coldest['min_temp'])\n",
    "\n",
    "print(f'Using the chart provided the coldest month was found in the 3rd month and the warmest found to be 8th month.')"
   ]
  },
  {
   "cell_type": "code",
   "execution_count": 15,
   "id": "422f7000",
   "metadata": {},
   "outputs": [
    {
     "name": "stdout",
     "output_type": "stream",
     "text": [
      "Using the chart provided the month with the higest pressure was the 9th month, the month with the least was the 6th.\n"
     ]
    },
    {
     "data": {
      "image/png": "[encoded data removed]",
      "text/plain": [
       "<Figure size 432x288 with 1 Axes>"
      ]
     },
     "metadata": {
      "needs_background": "light"
     },
     "output_type": "display_data"
    }
   ],
   "source": [
    "# Deliverable 2: Scrape and Analyze Mars Weather Data \n",
    "# Question 5, Part 4 >> Which months have the lowest and the highest atmospheric pressure on Mars?\n",
    "# Plot the results as a bar chart.\n",
    "\n",
    "# Returns a DF\n",
    "mars_avg_pressure = mars_temps_df.groupby('month').mean('pressure')\n",
    "\n",
    "# Create Range for months using Index, this converts the \"group by\" into a series which can be plotted\n",
    "x_axis_months = pd.Series(range(1,mars_avg_pressure['id'].count() + 1))\n",
    "\n",
    "# Create labels for the x and y axis\n",
    "plt.xlabel(\"Months\")\n",
    "plt.ylabel(\"Pressure\")\n",
    "\n",
    "# Create Title for chart\n",
    "plt.title(\"Avg pressure by Months\")\n",
    "\n",
    "# Display completed bar chart\n",
    "plt.bar(x_axis_months, mars_avg_pressure['pressure'])\n",
    "\n",
    "print(f'Using the chart provided the month with the higest pressure was the 9th month, the month with the least was the 6th.')"
   ]
  },
  {
   "cell_type": "code",
   "execution_count": 72,
   "id": "a05588c1",
   "metadata": {},
   "outputs": [
    {
     "data": {
      "text/plain": [
       "Text(0.5, 1.0, 'Lowest Daily Temperatures')"
      ]
     },
     "execution_count": 72,
     "metadata": {},
     "output_type": "execute_result"
    },
    {
     "data": {
      "image/png": "[encoded data removed]",
      "text/plain": [
       "<Figure size 432x288 with 1 Axes>"
      ]
     },
     "metadata": {
      "needs_background": "light"
     },
     "output_type": "display_data"
    }
   ],
   "source": [
    "# Deliverable 2: Scrape and Analyze Mars Weather Data \n",
    "# Question 5, Part 5 >> About how many terrestrial (Earth) days exist in a Martian year? \n",
    "# That is, in the time that Mars circles the Sun once, how many days elapse on Earth?\n",
    "get_days_year = pd.to_datetime(mars_temps_df['terrestrial_date']).dt.to_period('Y').nunique()\n",
    "get_days_year\n",
    "\n",
    "# Visually estimate the result by plotting the daily minimum temperature.\n",
    "plt.bar(mars_temps_df['sol'], mars_temps_df['min_temp'])\n",
    "\n",
    "# Create X & Y Labels\n",
    "plt.xlabel('Mars Days (in Sols)')\n",
    "plt.ylabel('Minimum Daily Temperatures')\n",
    "\n",
    "# Create Chart title\n",
    "plt.title('Lowest Daily Temperatures')"
   ]
  },
  {
   "cell_type": "code",
   "execution_count": null,
   "id": "0cb249a2",
   "metadata": {},
   "outputs": [],
   "source": []
  }
 ],
 "metadata": {
  "kernelspec": {
   "display_name": "PythonData",
   "language": "python",
   "name": "pythondata"
  },
  "language_info": {
   "codemirror_mode": {
    "name": "ipython",
    "version": 3
   },
   "file_extension": ".py",
   "mimetype": "text/x-python",
   "name": "python",
   "nbconvert_exporter": "python",
   "pygments_lexer": "ipython3",
   "version": "3.7.13"
  }
 },
 "nbformat": 4,
 "nbformat_minor": 5
}
